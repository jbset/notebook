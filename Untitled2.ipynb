{
 "cells": [
  {
   "cell_type": "markdown",
   "id": "46d06907",
   "metadata": {},
   "source": [
    "# My Jupyter Notebook on IBM Watson Studio"
   ]
  },
  {
   "cell_type": "markdown",
   "id": "6afb80f3",
   "metadata": {},
   "source": [
    "__Johni B.__"
   ]
  },
  {
   "cell_type": "markdown",
   "id": "06256a23",
   "metadata": {},
   "source": [
    "_I am interested in data science for career development_"
   ]
  },
  {
   "cell_type": "markdown",
   "id": "5130bc80",
   "metadata": {},
   "source": [
    "### The following cell will have a mathematical equation"
   ]
  },
  {
   "cell_type": "code",
   "execution_count": 1,
   "id": "4c394504",
   "metadata": {},
   "outputs": [
    {
     "data": {
      "text/plain": [
       "8.9"
      ]
     },
     "execution_count": 1,
     "metadata": {},
     "output_type": "execute_result"
    }
   ],
   "source": [
    "(8+2)-1.1"
   ]
  },
  {
   "cell_type": "markdown",
   "id": "e4740281",
   "metadata": {},
   "source": [
    "-  Python\n",
    "-  Java\n",
    "-  Ruby"
   ]
  }
 ],
 "metadata": {
  "kernelspec": {
   "display_name": "Python 3 (ipykernel)",
   "language": "python",
   "name": "python3"
  },
  "language_info": {
   "codemirror_mode": {
    "name": "ipython",
    "version": 3
   },
   "file_extension": ".py",
   "mimetype": "text/x-python",
   "name": "python",
   "nbconvert_exporter": "python",
   "pygments_lexer": "ipython3",
   "version": "3.9.12"
  }
 },
 "nbformat": 4,
 "nbformat_minor": 5
}
